{
  "cells": [
    {
      "cell_type": "markdown",
      "metadata": {
        "id": "-88O6IrbXKJY"
      },
      "source": [
        "# Description\n",
        "\n",
        "Run the code to create the queries for every profile id and store it in a BQ table.\n",
        "Fill in and check all the variables in the 2nd and 3rd cell before running the notebook.\n",
        "The results will be appended to the desired destination table\n"
      ]
    },
    {
      "cell_type": "code",
      "execution_count": null,
      "metadata": {
        "id": "JuUyGHKZ0f4U"
      },
      "outputs": [],
      "source": [
        "import urllib.request\n",
        "import pandas as pd\n",
        "import pandas_gbq\n",
        "from google.cloud import bigquery, storage\n",
        "from oauth2client.service_account import ServiceAccountCredentials\n",
        "from googleapiclient.discovery import build"
      ]
    },
    {
      "cell_type": "code",
      "execution_count": null,
      "metadata": {
        "id": "vrveIV0k77a3"
      },
      "outputs": [],
      "source": [
        "PROJECT_ID = \"mdlz-na\"  # Destination project where the query ids will be stored\n",
        "# Destination dataset where the query ids will be stored\n",
        "DATASET_ID = \"poc_dv360_reports\"\n",
        "TABLE_ID = \"reports_queries\"  # Destination table where the query ids will be stored\n",
        "# QUERY_TITLE_PREFIX = \"ekam_main_extract_7days\"  # A prefix to diffrentiate between querys ids\n",
        "# QUERY_TITLE_PREFIX = \"ekam_reach_7days\"  # A prefix to diffrentiate between querys ids\n",
        "QUERY_TITLE_PREFIX = \"ekam_yt_7days\" # A prefix to diffrentiate between querys ids\n",
        "EMAILS = [''] # List of emails which will receive DV360 notifications\n",
        "# TYPE = \"STANDARD\"  # See DV360 API docs.\n",
        "# TYPE = \"REACH\"  # See DV360 API docs.\n",
        "TYPE = \"YOUTUBE\"  # See DV360 API docs.\n",
        "\n",
        "\n",
        "#MAIN EXTRACT\n",
        "# DIMENSIONS = [\n",
        "#     \"FILTER_ADVERTISER_NAME\",\n",
        "#     \"FILTER_ADVERTISER\",\n",
        "#     \"FILTER_ADVERTISER_CURRENCY\",\n",
        "#     \"FILTER_INSERTION_ORDER_NAME\",\n",
        "#     \"FILTER_INSERTION_ORDER\",\n",
        "#     \"FILTER_LINE_ITEM_NAME\",\n",
        "#     \"FILTER_LINE_ITEM\",\n",
        "#     \"FILTER_MEDIA_PLAN_NAME\",\n",
        "#     \"FILTER_DATE\"\n",
        "# ]\n",
        "# METRICS = [\"METRIC_IMPRESSIONS\",\n",
        "#            \"METRIC_BILLABLE_IMPRESSIONS\",\n",
        "#            \"METRIC_CLICKS\",\n",
        "#            \"METRIC_CTR\",\n",
        "#            \"METRIC_TOTAL_CONVERSIONS\",\n",
        "#            \"METRIC_LAST_CLICKS\",\n",
        "#            \"METRIC_LAST_IMPRESSIONS\",\n",
        "#            \"METRIC_REVENUE_ADVERTISER\",\n",
        "#            \"METRIC_MEDIA_COST_ADVERTISER\"]\n",
        "\n",
        "# # Reach\n",
        "# DIMENSIONS = [\"FILTER_PARTNER_NAME\",\n",
        "#               \"FILTER_PARTNER\",\n",
        "#               \"FILTER_COUNTRY\",\n",
        "#               \"FILTER_ADVERTISER_NAME\",\n",
        "#               \"FILTER_INSERTION_ORDER_NAME\",\n",
        "#               \"FILTER_INSERTION_ORDER\",\n",
        "#               \"FILTER_LINE_ITEM_NAME\",\n",
        "#               \"FILTER_LINE_ITEM\",\n",
        "#               \"FILTER_DATE\",\n",
        "#               \"FILTER_MEDIA_PLAN_NAME\"]\n",
        "\n",
        "# METRICS = [\n",
        "#     \"METRIC_UNIQUE_REACH_IMPRESSION_REACH\",\n",
        "#     \"METRIC_UNIQUE_REACH_CLICK_REACH\",\n",
        "#     \"METRIC_UNIQUE_REACH_TOTAL_REACH\",\n",
        "#     \"METRIC_UNIQUE_REACH_AVERAGE_IMPRESSION_FREQUENCY\"\n",
        "# ]\n",
        "\n",
        "# YOUTUBE\n",
        "DIMENSIONS = [\"FILTER_ADVERTISER_CURRENCY\",\n",
        "              \"FILTER_ADVERTISER_NAME\",\n",
        "              \"FILTER_ADVERTISER\",\n",
        "              \"FILTER_DATE\",\n",
        "              \"FILTER_INSERTION_ORDER_NAME\",\n",
        "              \"FILTER_LINE_ITEM_NAME\",\n",
        "              \"FILTER_LINE_ITEM\",\n",
        "              \"FILTER_INSERTION_ORDER\"]\n",
        "\n",
        "METRICS = [\n",
        "    \"METRIC_IMPRESSIONS\",\n",
        "    \"METRIC_TRUEVIEW_VIEWS\",\n",
        "    \"METRIC_TRUEVIEW_VIEW_RATE\",\n",
        "    \"METRIC_REVENUE_ADVERTISER\",\n",
        "    \"METRIC_MEDIA_COST_ADVERTISER\",\n",
        "    \"METRIC_RICH_MEDIA_VIDEO_FIRST_QUARTILE_COMPLETES\",\n",
        "    \"METRIC_RICH_MEDIA_VIDEO_MIDPOINTS\",\n",
        "    \"METRIC_RICH_MEDIA_VIDEO_THIRD_QUARTILE_COMPLETES\"\n",
        "]\n",
        "\n",
        "\n",
        "# bucket name where the credentials for the service account are stored\n",
        "bucket_name = 'mdlz_taxonomy_adherence'\n",
        "credentials_path = 'credentials/creds.json' # Path to credentials. i.e.: 'credentials/creds.json'\n",
        "api_name = 'doubleclickbidmanager'\n",
        "api_version = 'v2'\n",
        "SCOPES = 'https://www.googleapis.com/auth/doubleclickbidmanager'\n",
        "\n",
        "# List of partners ids (int)\n",
        "partner_ids = [3666732]  # INDIA\n"
      ]
    },
    {
      "cell_type": "code",
      "execution_count": null,
      "metadata": {
        "id": "DDPdj_jII3Jb"
      },
      "outputs": [],
      "source": [
        "request_body = {\n",
        "    \"metadata\": {\n",
        "        \"title\": \"\",\n",
        "        \"dataRange\": {\n",
        "            \"range\": \"LAST_7_DAYS\"\n",
        "        },\n",
        "        \"format\": \"CSV\",\n",
        "        \"sendNotification\": True,\n",
        "        \"shareEmailAddress\": EMAILS\n",
        "    },\n",
        "    \"params\": {\n",
        "        \"type\": TYPE,\n",
        "        \"groupBys\": DIMENSIONS,\n",
        "        \"metrics\": METRICS,\n",
        "        \"filters\": [\n",
        "            {\n",
        "                \"type\": \"FILTER_PARTNER\",\n",
        "                \"value\": \"\"\n",
        "            }\n",
        "        ]\n",
        "    },\n",
        "    \"schedule\": {\n",
        "        \"frequency\": \"ONE_TIME\"\n",
        "    }\n",
        "}"
      ]
    },
    {
      "cell_type": "code",
      "execution_count": null,
      "metadata": {
        "id": "xgU9OIU3ezSO"
      },
      "outputs": [],
      "source": [
        "# Authenticate the user to access BigQuery and GCS\n",
        "#auth.authenticate_user()\n",
        "bq_client = bigquery.Client()\n",
        "storage_client = storage.Client()\n",
        "bucket = storage_client.get_bucket(bucket_name)\n",
        "\n",
        "# Create BQ table\n",
        "schema = [\n",
        "    bigquery.SchemaField(\"report_name\", \"STRING\"),\n",
        "    bigquery.SchemaField(\"partner_id\", \"STRING\"),\n",
        "    bigquery.SchemaField(\"title\", \"STRING\"),\n",
        "    bigquery.SchemaField(\"query_id\", \"STRING\")\n",
        "]\n",
        "#table = bigquery.Table(f\"{PROJECT_ID}.{DATASET_ID}.{TABLE_ID}\", schema=schema)\n",
        "#table = bq_client.create_table(table)  # Make an API request to create table\n",
        "table = bigquery.Table(f\"{PROJECT_ID}.{DATASET_ID}.{TABLE_ID}\") # Get table\n",
        "\n",
        "# Make connection with DV360\n",
        "# Get credentials from bucket currently says bucket in service\n",
        "credentials_blob = bucket.blob(credentials_path)\n",
        "with open('/tmp/credentials.json', 'wb') as file_obj:\n",
        "    credentials_blob.download_to_file(file_obj)\n",
        "service_account_credentials = ServiceAccountCredentials.from_json_keyfile_name(\"/tmp/credentials.json\", scopes=SCOPES)\n",
        "\n",
        "# Build the service object to connect to DV360 API\n",
        "service = build(api_name, api_version, cache_discovery=False,credentials=service_account_credentials)"
      ]
    },
    {
      "cell_type": "code",
      "execution_count": null,
      "metadata": {
        "colab": {
          "base_uri": "https://localhost:8080/"
        },
        "id": "MjxVPFlAI8U4",
        "outputId": "0bd63801-a46d-42fd-f9ea-cc71001ab107"
      },
      "outputs": [
        {
          "name": "stderr",
          "output_type": "stream",
          "text": [
            "1it [00:04,  4.89s/it]\n"
          ]
        }
      ],
      "source": [
        "data = []\n",
        "try:\n",
        "    for partner in partner_ids:\n",
        "        # Set queries params\n",
        "        request_body['metadata']['title'] = f\"{QUERY_TITLE_PREFIX}_{partner}\"\n",
        "        request_body['params']['filters'][0]['value'] = str(partner)\n",
        "        # Create Query\n",
        "        create_query_response = service.queries().create(body=request_body).execute()\n",
        "        query_id = create_query_response['queryId']\n",
        "        data.append(\n",
        "            {\n",
        "                'report_name': QUERY_TITLE_PREFIX,\n",
        "                'partner_id': str(partner),\n",
        "                'title': f\"{QUERY_TITLE_PREFIX}_{partner}\",\n",
        "                'query_id': str(query_id),\n",
        "            }\n",
        "        )\n",
        "\n",
        "    query_ids_df = pd.DataFrame(data)\n",
        "    pgbq_response = pandas_gbq.to_gbq(\n",
        "        query_ids_df, f\"{DATASET_ID}.{TABLE_ID}\", project_id=PROJECT_ID, if_exists=\"append\")\n",
        "    pgbq_response\n",
        "except Exception as exc:\n",
        "    print(exc.args)"
      ]
    }
  ],
  "metadata": {
    "colab": {
      "collapsed_sections": [],
      "provenance": []
    },
    "kernelspec": {
      "display_name": "Python 3.8.9 64-bit",
      "language": "python",
      "name": "python3"
    },
    "language_info": {
      "name": "python",
      "version": "3.8.9"
    },
    "vscode": {
      "interpreter": {
        "hash": "31f2aee4e71d21fbe5cf8b01ff0e069b9275f58929596ceb00d14d90e3e16cd6"
      }
    }
  },
  "nbformat": 4,
  "nbformat_minor": 0
}
