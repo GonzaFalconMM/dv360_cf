{
  "cells": [
    {
      "cell_type": "markdown",
      "metadata": {
        "id": "-88O6IrbXKJY"
      },
      "source": [
        "# Description\n",
        "\n",
        "Run the code to create the queries for every profile id and store it in a BQ table.\n",
        "Fill in and check all the variables in the 2nd and 3rd cell before running the notebook.\n",
        "The results will be appended to the desired destination table\n"
      ]
    },
    {
      "cell_type": "code",
      "execution_count": null,
      "metadata": {
        "id": "JuUyGHKZ0f4U"
      },
      "outputs": [],
      "source": [
        "import urllib.request\n",
        "import pandas as pd\n",
        "import pandas_gbq\n",
        "from google.cloud import bigquery, storage\n",
        "from oauth2client.service_account import ServiceAccountCredentials\n",
        "from googleapiclient.discovery import build\n",
        "from google.colab import auth"
      ]
    },
    {
      "cell_type": "code",
      "execution_count": null,
      "metadata": {
        "id": "vrveIV0k77a3"
      },
      "outputs": [],
      "source": [
        "PROJECT_ID = \"\" # Destination project where the query ids will be stored\n",
        "DATASET_ID = \"\" # Destination dataset where the query ids will be stored\n",
        "TABLE_ID = \"\" # Destination table where the query ids will be stored\n",
        "QUERY_TITLE_PREFIX = \"\" # A prefix to diffrentiate between querys ids\n",
        "EMAILS = [''] # List of emails which will receive DV360 notifications\n",
        "TYPE = \"\" # See DV360 API docs.\n",
        "START_YEAR = 2022\n",
        "START_MONTH = 7\n",
        "START_DAY = 1\n",
        "END_YEAR = 2022\n",
        "END_MONTH = 7\n",
        "END_DAY = 1\n",
        "DIMENSIONS = []\n",
        "METRICS = []\n",
        "\n",
        "bucket_name = '' # bucket name where the credentials for the service account are stored\n",
        "credentials_path = '' # Path to credentials. i.e.: 'credentials/creds.json'\n",
        "api_name = 'doubleclickbidmanager'\n",
        "api_version = 'v2'\n",
        "SCOPES = 'https://www.googleapis.com/auth/doubleclickbidmanager'\n",
        "partner_ids = [] # List of partners ids (int)"
      ]
    },
    {
      "cell_type": "code",
      "execution_count": null,
      "metadata": {
        "id": "DDPdj_jII3Jb"
      },
      "outputs": [],
      "source": [
        "request_body = {\n",
        "    \"metadata\": {\n",
        "        \"title\": \"\",\n",
        "        \"dataRange\": {\n",
        "            \"range\": \"CUSTOM_DATES\",\n",
        "            \"customStartDate\": {\n",
        "                \"year\": START_YEAR,\n",
        "                \"month\":START_MONTH,\n",
        "                \"day\": START_DAY\n",
        "            },\n",
        "            \"customEndDate\": {\n",
        "                \"year\": END_YEAR,\n",
        "                \"month\":END_MONTH,\n",
        "                \"day\": END_DAY\n",
        "            }\n",
        "        },\n",
        "        \"format\": \"CSV\",\n",
        "        \"sendNotification\": True,\n",
        "        \"shareEmailAddress\": EMAILS\n",
        "    },\n",
        "    \"params\": {\n",
        "        \"type\": TYPE,\n",
        "        \"groupBys\": DIMENSIONS,\n",
        "        \"metrics\": METRICS,\n",
        "        \"filters\": [\n",
        "            {\n",
        "                \"type\": \"FILTER_PARTNER\",\n",
        "                \"value\": \"\"\n",
        "            }\n",
        "        ]\n",
        "    },\n",
        "    \"schedule\": {\n",
        "        \"frequency\": \"ONE_TIME\"\n",
        "    }\n",
        "}"
      ]
    },
    {
      "cell_type": "code",
      "execution_count": null,
      "metadata": {
        "id": "xgU9OIU3ezSO"
      },
      "outputs": [],
      "source": [
        "# Authenticate the user to access BigQuery and GCS\n",
        "auth.authenticate_user()\n",
        "bq_client = bigquery.Client()\n",
        "storage_client = storage.Client()\n",
        "bucket = storage_client.get_bucket(bucket_name)\n",
        "\n",
        "# Create BQ table\n",
        "schema = [\n",
        "    bigquery.SchemaField(\"report_name\", \"STRING\"),\n",
        "    bigquery.SchemaField(\"partner_id\", \"STRING\"),\n",
        "    bigquery.SchemaField(\"title\", \"STRING\"),\n",
        "    bigquery.SchemaField(\"query_id\", \"STRING\")\n",
        "]\n",
        "#table = bigquery.Table(f\"{PROJECT_ID}.{DATASET_ID}.{TABLE_ID}\", schema=schema)\n",
        "#table = bq_client.create_table(table)  # Make an API request to create table\n",
        "table = bigquery.Table(f\"{PROJECT_ID}.{DATASET_ID}.{TABLE_ID}\") # Get table\n",
        "\n",
        "# Make connection with DV360\n",
        "# Get credentials from bucket currently says bucket in service\n",
        "credentials_blob = bucket.blob(credentials_path)\n",
        "with open('/tmp/credentials.json', 'wb') as file_obj:\n",
        "    credentials_blob.download_to_file(file_obj)\n",
        "service_account_credentials = ServiceAccountCredentials.from_json_keyfile_name(\"/tmp/credentials.json\", scopes=SCOPES)\n",
        "\n",
        "# Build the service object to connect to DV360 API\n",
        "service = build(api_name, api_version, cache_discovery=False,credentials=service_account_credentials)"
      ]
    },
    {
      "cell_type": "code",
      "execution_count": null,
      "metadata": {
        "colab": {
          "base_uri": "https://localhost:8080/"
        },
        "id": "MjxVPFlAI8U4",
        "outputId": "0bd63801-a46d-42fd-f9ea-cc71001ab107"
      },
      "outputs": [
        {
          "name": "stderr",
          "output_type": "stream",
          "text": [
            "1it [00:04,  4.89s/it]\n"
          ]
        }
      ],
      "source": [
        "data = []\n",
        "for partner in partner_ids:\n",
        "    # Set queries params\n",
        "    request_body['metadata']['title'] = f\"{QUERY_TITLE_PREFIX}_{partner}\"\n",
        "    request_body['params']['filters'][0]['value'] = str(partner)\n",
        "    # Create Query\n",
        "    create_query_response = service.queries().create(body=request_body).execute()\n",
        "    query_id = create_query_response['queryId']\n",
        "    data.append(\n",
        "        {\n",
        "            'report_name':QUERY_TITLE_PREFIX,\n",
        "            'partner_id':str(partner),\n",
        "            'title':f\"{QUERY_TITLE_PREFIX}_{partner}\",\n",
        "            'query_id':str(query_id),\n",
        "        }\n",
        "    )\n",
        "\n",
        "query_ids_df = pd.DataFrame(data)\n",
        "pgbq_response = pandas_gbq.to_gbq(query_ids_df, f\"{DATASET_ID}.{TABLE_ID}\", project_id=PROJECT_ID, if_exists=\"append\")\n",
        "pgbq_response"
      ]
    }
  ],
  "metadata": {
    "colab": {
      "collapsed_sections": [],
      "provenance": []
    },
    "kernelspec": {
      "display_name": "Python 3.7.9 ('mediamonks')",
      "language": "python",
      "name": "python3"
    },
    "language_info": {
      "name": "python",
      "version": "3.7.9"
    },
    "vscode": {
      "interpreter": {
        "hash": "81fa58b907b26e44551b9ac0c24ff797f4658c7527e6267eb904e58d96fb3960"
      }
    }
  },
  "nbformat": 4,
  "nbformat_minor": 0
}
